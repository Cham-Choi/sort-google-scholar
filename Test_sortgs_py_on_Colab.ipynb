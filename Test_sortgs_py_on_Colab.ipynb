{
  "nbformat": 4,
  "nbformat_minor": 0,
  "metadata": {
    "colab": {
      "name": "Test sortgs.py on Colab.ipynb",
      "provenance": [],
      "include_colab_link": true
    },
    "kernelspec": {
      "name": "python3",
      "display_name": "Python 3"
    }
  },
  "cells": [
    {
      "cell_type": "markdown",
      "metadata": {
        "id": "view-in-github",
        "colab_type": "text"
      },
      "source": [
        "<a href=\"https://colab.research.google.com/github/Cham-Choi/sort-google-scholar/blob/master/Test_sortgs_py_on_Colab.ipynb\" target=\"_parent\"><img src=\"https://colab.research.google.com/assets/colab-badge.svg\" alt=\"Open In Colab\"/></a>"
      ]
    },
    {
      "cell_type": "markdown",
      "metadata": {
        "id": "M36VFanosbkb"
      },
      "source": [
        "## Try `sortgs.py` on Google Colab\n",
        "This is a jupyter envirnment where you can try the code of the repository without installing anything. The only limitation is the robot checking problem which would require selenium and manual solution of the captchas, but for trying a few keywords, it should work! \n",
        "\n",
        "> **INSTRUCTIONS:** If this is the first time you are using a jupyter environment, you simply have to run the code blocks using the keyword `SHIFT` + `ENTER`. Make sure to update the keyword parameters when required. \n",
        "\n",
        "First, let's clone the repository:"
      ]
    },
    {
      "cell_type": "code",
      "metadata": {
        "id": "oPot8aWcsfei",
        "outputId": "4d92ffb0-3dad-49cf-a490-12368f797c96",
        "colab": {
          "base_uri": "https://localhost:8080/"
        }
      },
      "source": [
        "!git clone https://github.com/WittmannF/sort-google-scholar.git"
      ],
      "execution_count": 1,
      "outputs": [
        {
          "output_type": "stream",
          "name": "stdout",
          "text": [
            "Cloning into 'sort-google-scholar'...\n",
            "remote: Enumerating objects: 247, done.\u001b[K\n",
            "remote: Counting objects: 100% (15/15), done.\u001b[K\n",
            "remote: Compressing objects: 100% (14/14), done.\u001b[K\n",
            "remote: Total 247 (delta 4), reused 7 (delta 1), pack-reused 232\u001b[K\n",
            "Receiving objects: 100% (247/247), 140.53 KiB | 3.80 MiB/s, done.\n",
            "Resolving deltas: 100% (110/110), done.\n"
          ]
        }
      ]
    },
    {
      "cell_type": "markdown",
      "metadata": {
        "id": "pM5XMRmVspR7"
      },
      "source": [
        "Now, let's open the folder from the cloned repository:"
      ]
    },
    {
      "cell_type": "code",
      "metadata": {
        "id": "LQ0mCxVNrlCB",
        "colab": {
          "base_uri": "https://localhost:8080/"
        },
        "outputId": "dc22f78d-19ec-4661-b0bf-b3934be7e234"
      },
      "source": [
        "cd sort-google-scholar/"
      ],
      "execution_count": 2,
      "outputs": [
        {
          "output_type": "stream",
          "name": "stdout",
          "text": [
            "/content/sort-google-scholar\n"
          ]
        }
      ]
    },
    {
      "cell_type": "markdown",
      "metadata": {
        "id": "KALGyCEJsvTL"
      },
      "source": [
        "Next, let's run the code. Make sure to change \"deep learning\" to the keyword that you would like to have it ranked."
      ]
    },
    {
      "cell_type": "code",
      "metadata": {
        "id": "dohZcNUmrost",
        "colab": {
          "base_uri": "https://localhost:8080/"
        },
        "outputId": "6fad757f-41b1-4d1b-e39c-e5d80c6c4926"
      },
      "source": [
        "# Change 'deep learning' with the keyword that you would like to check\n",
        "!python sortgs.py --kw \"lbp puncture microct\" --sortby \"cit/year\" --nresults \"200\""
      ],
      "execution_count": 9,
      "outputs": [
        {
          "output_type": "stream",
          "name": "stdout",
          "text": [
            "Loading next 10 results\n",
            "Loading next 20 results\n",
            "Loading next 30 results\n",
            "Loading next 40 results\n",
            "Loading next 50 results\n",
            "Loading next 60 results\n",
            "Loading next 70 results\n",
            "Loading next 80 results\n",
            "Loading next 90 results\n",
            "Loading next 100 results\n",
            "Loading next 110 results\n",
            "Loading next 120 results\n",
            "Loading next 130 results\n",
            "Loading next 140 results\n",
            "Loading next 150 results\n",
            "Loading next 160 results\n",
            "Loading next 170 results\n",
            "Loading next 180 results\n",
            "Loading next 190 results\n",
            "Loading next 200 results\n",
            "                                                 Author  ... cit/year\n",
            "Rank                                                     ...         \n",
            "86                  A Vergroesen, I Kingma, KS Emanuel…  ...       74\n",
            "144          Tang, JP Choi, JJ Kotzin, Y Yang, CC Hong…  ...       36\n",
            "108            Novais, VA Tran, SN Johnston, KR Darris…  ...       30\n",
            "198                                      Nguyen, JY Lai  ...       22\n",
            "197                                              Oxland  ...       20\n",
            "...                                                 ...  ...      ...\n",
            "66                                       Dodge, PDS Sen  ...        0\n",
            "67                                 Gruber, EN Hanley Jr  ...        0\n",
            "68    Guo, H Yan, Y Xie, W Zhai, S Yang, M Ni, Y Zhang…  ...        0\n",
            "71                               Li, E Tihelka, ZH Liu…  ...        0\n",
            "200                                            Iatridis  ...        0\n",
            "\n",
            "[200 rows x 8 columns]\n"
          ]
        }
      ]
    },
    {
      "cell_type": "markdown",
      "metadata": {
        "id": "s_nuxpy_s_9c"
      },
      "source": [
        "> _**NOTE:** It is normal to get some warnings, for example year not found or author not found. However, if you get the robot checking warning, then it might not work anymore in the IP that you have on Google Colab. You can try going in 'Runtime' > 'Disconnect and delete runtime' to get a new IP. If the problem persists, then you will have to run locally using selenium and solve the captchas manually. Make sure to avoid running this code too often to avoid the robot checking problem._\n",
        "\n",
        "Next, you will see that a csv file with the name of the keyword was created (which is `deep_learning.csv` in my case). "
      ]
    },
    {
      "cell_type": "code",
      "metadata": {
        "id": "94792EoBrrBU",
        "colab": {
          "base_uri": "https://localhost:8080/"
        },
        "outputId": "6be18bf1-286d-44f6-9fd9-491e701c27a2"
      },
      "source": [
        "ls"
      ],
      "execution_count": 10,
      "outputs": [
        {
          "output_type": "stream",
          "name": "stdout",
          "text": [
            "deep_learning.csv         \u001b[0m\u001b[01;34msort-google-scholar-V1\u001b[0m/\n",
            "\u001b[01;34mexamples\u001b[0m/                 \u001b[01;32msortgs.py\u001b[0m*\n",
            "lbp_puncture_microct.csv  \u001b[01;34mtest\u001b[0m/\n",
            "README.md                 Test_sortgs_py_on_Colab.ipynb\n",
            "requirements.txt\n"
          ]
        }
      ]
    },
    {
      "cell_type": "markdown",
      "metadata": {
        "id": "QQIb9oYou9GM"
      },
      "source": [
        "Let's import this file to visualize some results (make sure to change `deep_learning.csv` to the file name that was created in your case):"
      ]
    },
    {
      "cell_type": "code",
      "metadata": {
        "id": "NVoHI4zTr5pB"
      },
      "source": [
        "import pandas as pd\n",
        "df = pd.read_csv('lbp_puncture_microct.csv') # OBS: Update the file name"
      ],
      "execution_count": 13,
      "outputs": []
    },
    {
      "cell_type": "code",
      "metadata": {
        "id": "S1NzeUq0sOu-",
        "colab": {
          "base_uri": "https://localhost:8080/",
          "height": 719
        },
        "outputId": "090c73c9-4295-4d42-8a99-4bd1278602aa"
      },
      "source": [
        "df.head(10)"
      ],
      "execution_count": 14,
      "outputs": [
        {
          "output_type": "execute_result",
          "data": {
            "text/plain": [
              "   Rank                                           Author  \\\n",
              "0    86              A Vergroesen, I Kingma, KS Emanuel…   \n",
              "1   144       Tang, JP Choi, JJ Kotzin, Y Yang, CC Hong…   \n",
              "2   108         Novais, VA Tran, SN Johnston, KR Darris…   \n",
              "3   198                                   Nguyen, JY Lai   \n",
              "4   197                                           Oxland   \n",
              "5     8       Zhang, G Li, R Luo, J Lei, Y Song, B Wang…   \n",
              "6   134  Choi, S Tessier, ES Silagi, R Kyada, F Yousefi…   \n",
              "7    77                                 van Uden, J Silv   \n",
              "8   165   Gan, P Li, L Wang, X Mo, L Song, Y Xu, C Zhao…   \n",
              "9   152         Ni, Z Ling, X Wang, Y Cao, T Wu, R Deng…   \n",
              "\n",
              "                                               Title  Citations  Year  \\\n",
              "0  Mechanics and biology in intervertebral disc d...        666  2015   \n",
              "1  Endothelial TLR4 and the microbiome drive cere...        249  2017   \n",
              "2  Long-term treatment with senolytic drugs Dasat...         90  2021   \n",
              "3  Synthesis, bioactive properties, and biomedica...         44  2022   \n",
              "4  Fundamental biomechanics of the spine—what we ...        157  2016   \n",
              "5  Cytosolic escape of mitochondrial DNA triggers...         37  2022   \n",
              "6  A novel mouse model of intervertebral disc deg...         89  2018   \n",
              "7  Current strategies for treatment of interverte...        105  2017   \n",
              "8  An interpenetrating network-strengthened and t...         87  2017   \n",
              "9  Sensory innervation in porous endplates by Net...         58  2019   \n",
              "\n",
              "                            Publisher                          Venue  \\\n",
              "0                            Elsevier           Osteoarthritis and …   \n",
              "1                          nature.com                         Nature   \n",
              "2                          nature.com                       Nature …   \n",
              "3                            Elsevier   Chemical Engineering Journal   \n",
              "4                            Elsevier        Journal of biomechanics   \n",
              "5                          nature.com         … & molecular medicine   \n",
              "6                            Elsevier                 Matrix Biology   \n",
              "7   biomaterialsres.biomedcentral.com                 Biomaterials …   \n",
              "8                            Elsevier                   Biomaterials   \n",
              "9                          nature.com                       Nature …   \n",
              "\n",
              "                                              Source  cit/year  \n",
              "0  https://www.sciencedirect.com/science/article/...        74  \n",
              "1        https://www.nature.com/articles/nature22075        36  \n",
              "2  https://www.nature.com/articles/s41467-021-254...        30  \n",
              "3  https://www.sciencedirect.com/science/article/...        22  \n",
              "4  https://www.sciencedirect.com/science/article/...        20  \n",
              "5  https://www.nature.com/articles/s12276-022-007...        18  \n",
              "6  https://www.sciencedirect.com/science/article/...        15  \n",
              "7  https://biomaterialsres.biomedcentral.com/arti...        15  \n",
              "8  https://www.sciencedirect.com/science/article/...        12  \n",
              "9  https://www.nature.com/articles/s41467-019-134...        12  "
            ],
            "text/html": [
              "\n",
              "  <div id=\"df-90b91294-9937-4adf-919f-af24664166e5\">\n",
              "    <div class=\"colab-df-container\">\n",
              "      <div>\n",
              "<style scoped>\n",
              "    .dataframe tbody tr th:only-of-type {\n",
              "        vertical-align: middle;\n",
              "    }\n",
              "\n",
              "    .dataframe tbody tr th {\n",
              "        vertical-align: top;\n",
              "    }\n",
              "\n",
              "    .dataframe thead th {\n",
              "        text-align: right;\n",
              "    }\n",
              "</style>\n",
              "<table border=\"1\" class=\"dataframe\">\n",
              "  <thead>\n",
              "    <tr style=\"text-align: right;\">\n",
              "      <th></th>\n",
              "      <th>Rank</th>\n",
              "      <th>Author</th>\n",
              "      <th>Title</th>\n",
              "      <th>Citations</th>\n",
              "      <th>Year</th>\n",
              "      <th>Publisher</th>\n",
              "      <th>Venue</th>\n",
              "      <th>Source</th>\n",
              "      <th>cit/year</th>\n",
              "    </tr>\n",
              "  </thead>\n",
              "  <tbody>\n",
              "    <tr>\n",
              "      <th>0</th>\n",
              "      <td>86</td>\n",
              "      <td>A Vergroesen, I Kingma, KS Emanuel…</td>\n",
              "      <td>Mechanics and biology in intervertebral disc d...</td>\n",
              "      <td>666</td>\n",
              "      <td>2015</td>\n",
              "      <td>Elsevier</td>\n",
              "      <td>Osteoarthritis and …</td>\n",
              "      <td>https://www.sciencedirect.com/science/article/...</td>\n",
              "      <td>74</td>\n",
              "    </tr>\n",
              "    <tr>\n",
              "      <th>1</th>\n",
              "      <td>144</td>\n",
              "      <td>Tang, JP Choi, JJ Kotzin, Y Yang, CC Hong…</td>\n",
              "      <td>Endothelial TLR4 and the microbiome drive cere...</td>\n",
              "      <td>249</td>\n",
              "      <td>2017</td>\n",
              "      <td>nature.com</td>\n",
              "      <td>Nature</td>\n",
              "      <td>https://www.nature.com/articles/nature22075</td>\n",
              "      <td>36</td>\n",
              "    </tr>\n",
              "    <tr>\n",
              "      <th>2</th>\n",
              "      <td>108</td>\n",
              "      <td>Novais, VA Tran, SN Johnston, KR Darris…</td>\n",
              "      <td>Long-term treatment with senolytic drugs Dasat...</td>\n",
              "      <td>90</td>\n",
              "      <td>2021</td>\n",
              "      <td>nature.com</td>\n",
              "      <td>Nature …</td>\n",
              "      <td>https://www.nature.com/articles/s41467-021-254...</td>\n",
              "      <td>30</td>\n",
              "    </tr>\n",
              "    <tr>\n",
              "      <th>3</th>\n",
              "      <td>198</td>\n",
              "      <td>Nguyen, JY Lai</td>\n",
              "      <td>Synthesis, bioactive properties, and biomedica...</td>\n",
              "      <td>44</td>\n",
              "      <td>2022</td>\n",
              "      <td>Elsevier</td>\n",
              "      <td>Chemical Engineering Journal</td>\n",
              "      <td>https://www.sciencedirect.com/science/article/...</td>\n",
              "      <td>22</td>\n",
              "    </tr>\n",
              "    <tr>\n",
              "      <th>4</th>\n",
              "      <td>197</td>\n",
              "      <td>Oxland</td>\n",
              "      <td>Fundamental biomechanics of the spine—what we ...</td>\n",
              "      <td>157</td>\n",
              "      <td>2016</td>\n",
              "      <td>Elsevier</td>\n",
              "      <td>Journal of biomechanics</td>\n",
              "      <td>https://www.sciencedirect.com/science/article/...</td>\n",
              "      <td>20</td>\n",
              "    </tr>\n",
              "    <tr>\n",
              "      <th>5</th>\n",
              "      <td>8</td>\n",
              "      <td>Zhang, G Li, R Luo, J Lei, Y Song, B Wang…</td>\n",
              "      <td>Cytosolic escape of mitochondrial DNA triggers...</td>\n",
              "      <td>37</td>\n",
              "      <td>2022</td>\n",
              "      <td>nature.com</td>\n",
              "      <td>… &amp; molecular medicine</td>\n",
              "      <td>https://www.nature.com/articles/s12276-022-007...</td>\n",
              "      <td>18</td>\n",
              "    </tr>\n",
              "    <tr>\n",
              "      <th>6</th>\n",
              "      <td>134</td>\n",
              "      <td>Choi, S Tessier, ES Silagi, R Kyada, F Yousefi…</td>\n",
              "      <td>A novel mouse model of intervertebral disc deg...</td>\n",
              "      <td>89</td>\n",
              "      <td>2018</td>\n",
              "      <td>Elsevier</td>\n",
              "      <td>Matrix Biology</td>\n",
              "      <td>https://www.sciencedirect.com/science/article/...</td>\n",
              "      <td>15</td>\n",
              "    </tr>\n",
              "    <tr>\n",
              "      <th>7</th>\n",
              "      <td>77</td>\n",
              "      <td>van Uden, J Silv</td>\n",
              "      <td>Current strategies for treatment of interverte...</td>\n",
              "      <td>105</td>\n",
              "      <td>2017</td>\n",
              "      <td>biomaterialsres.biomedcentral.com</td>\n",
              "      <td>Biomaterials …</td>\n",
              "      <td>https://biomaterialsres.biomedcentral.com/arti...</td>\n",
              "      <td>15</td>\n",
              "    </tr>\n",
              "    <tr>\n",
              "      <th>8</th>\n",
              "      <td>165</td>\n",
              "      <td>Gan, P Li, L Wang, X Mo, L Song, Y Xu, C Zhao…</td>\n",
              "      <td>An interpenetrating network-strengthened and t...</td>\n",
              "      <td>87</td>\n",
              "      <td>2017</td>\n",
              "      <td>Elsevier</td>\n",
              "      <td>Biomaterials</td>\n",
              "      <td>https://www.sciencedirect.com/science/article/...</td>\n",
              "      <td>12</td>\n",
              "    </tr>\n",
              "    <tr>\n",
              "      <th>9</th>\n",
              "      <td>152</td>\n",
              "      <td>Ni, Z Ling, X Wang, Y Cao, T Wu, R Deng…</td>\n",
              "      <td>Sensory innervation in porous endplates by Net...</td>\n",
              "      <td>58</td>\n",
              "      <td>2019</td>\n",
              "      <td>nature.com</td>\n",
              "      <td>Nature …</td>\n",
              "      <td>https://www.nature.com/articles/s41467-019-134...</td>\n",
              "      <td>12</td>\n",
              "    </tr>\n",
              "  </tbody>\n",
              "</table>\n",
              "</div>\n",
              "      <button class=\"colab-df-convert\" onclick=\"convertToInteractive('df-90b91294-9937-4adf-919f-af24664166e5')\"\n",
              "              title=\"Convert this dataframe to an interactive table.\"\n",
              "              style=\"display:none;\">\n",
              "        \n",
              "  <svg xmlns=\"http://www.w3.org/2000/svg\" height=\"24px\"viewBox=\"0 0 24 24\"\n",
              "       width=\"24px\">\n",
              "    <path d=\"M0 0h24v24H0V0z\" fill=\"none\"/>\n",
              "    <path d=\"M18.56 5.44l.94 2.06.94-2.06 2.06-.94-2.06-.94-.94-2.06-.94 2.06-2.06.94zm-11 1L8.5 8.5l.94-2.06 2.06-.94-2.06-.94L8.5 2.5l-.94 2.06-2.06.94zm10 10l.94 2.06.94-2.06 2.06-.94-2.06-.94-.94-2.06-.94 2.06-2.06.94z\"/><path d=\"M17.41 7.96l-1.37-1.37c-.4-.4-.92-.59-1.43-.59-.52 0-1.04.2-1.43.59L10.3 9.45l-7.72 7.72c-.78.78-.78 2.05 0 2.83L4 21.41c.39.39.9.59 1.41.59.51 0 1.02-.2 1.41-.59l7.78-7.78 2.81-2.81c.8-.78.8-2.07 0-2.86zM5.41 20L4 18.59l7.72-7.72 1.47 1.35L5.41 20z\"/>\n",
              "  </svg>\n",
              "      </button>\n",
              "      \n",
              "  <style>\n",
              "    .colab-df-container {\n",
              "      display:flex;\n",
              "      flex-wrap:wrap;\n",
              "      gap: 12px;\n",
              "    }\n",
              "\n",
              "    .colab-df-convert {\n",
              "      background-color: #E8F0FE;\n",
              "      border: none;\n",
              "      border-radius: 50%;\n",
              "      cursor: pointer;\n",
              "      display: none;\n",
              "      fill: #1967D2;\n",
              "      height: 32px;\n",
              "      padding: 0 0 0 0;\n",
              "      width: 32px;\n",
              "    }\n",
              "\n",
              "    .colab-df-convert:hover {\n",
              "      background-color: #E2EBFA;\n",
              "      box-shadow: 0px 1px 2px rgba(60, 64, 67, 0.3), 0px 1px 3px 1px rgba(60, 64, 67, 0.15);\n",
              "      fill: #174EA6;\n",
              "    }\n",
              "\n",
              "    [theme=dark] .colab-df-convert {\n",
              "      background-color: #3B4455;\n",
              "      fill: #D2E3FC;\n",
              "    }\n",
              "\n",
              "    [theme=dark] .colab-df-convert:hover {\n",
              "      background-color: #434B5C;\n",
              "      box-shadow: 0px 1px 3px 1px rgba(0, 0, 0, 0.15);\n",
              "      filter: drop-shadow(0px 1px 2px rgba(0, 0, 0, 0.3));\n",
              "      fill: #FFFFFF;\n",
              "    }\n",
              "  </style>\n",
              "\n",
              "      <script>\n",
              "        const buttonEl =\n",
              "          document.querySelector('#df-90b91294-9937-4adf-919f-af24664166e5 button.colab-df-convert');\n",
              "        buttonEl.style.display =\n",
              "          google.colab.kernel.accessAllowed ? 'block' : 'none';\n",
              "\n",
              "        async function convertToInteractive(key) {\n",
              "          const element = document.querySelector('#df-90b91294-9937-4adf-919f-af24664166e5');\n",
              "          const dataTable =\n",
              "            await google.colab.kernel.invokeFunction('convertToInteractive',\n",
              "                                                     [key], {});\n",
              "          if (!dataTable) return;\n",
              "\n",
              "          const docLinkHtml = 'Like what you see? Visit the ' +\n",
              "            '<a target=\"_blank\" href=https://colab.research.google.com/notebooks/data_table.ipynb>data table notebook</a>'\n",
              "            + ' to learn more about interactive tables.';\n",
              "          element.innerHTML = '';\n",
              "          dataTable['output_type'] = 'display_data';\n",
              "          await google.colab.output.renderOutput(dataTable, element);\n",
              "          const docLink = document.createElement('div');\n",
              "          docLink.innerHTML = docLinkHtml;\n",
              "          element.appendChild(docLink);\n",
              "        }\n",
              "      </script>\n",
              "    </div>\n",
              "  </div>\n",
              "  "
            ]
          },
          "metadata": {},
          "execution_count": 14
        }
      ]
    },
    {
      "cell_type": "markdown",
      "metadata": {
        "id": "t7ZCDWaksZxj"
      },
      "source": [
        "Above we have the top 10 papers of deep learning ranked by citations per year. It is incredible that some papers are very far away from the original rank. For example, the fourth most cited paper per year is originally the number 41 in the original rank of Google! "
      ]
    },
    {
      "cell_type": "markdown",
      "metadata": {
        "id": "-xx5GEHuybPd"
      },
      "source": [
        "Finally, let's download the CSV results (make sure to update the CSV name here as well):"
      ]
    },
    {
      "cell_type": "code",
      "metadata": {
        "id": "Svc1GCM2yaLP",
        "outputId": "75bc45d6-4b4b-4c64-ab9b-2bc10eaf617e",
        "colab": {
          "base_uri": "https://localhost:8080/",
          "height": 17
        }
      },
      "source": [
        "from google.colab import files\n",
        "files.download('lbp_puncture_microct.csv') # Update the file name here"
      ],
      "execution_count": 15,
      "outputs": [
        {
          "output_type": "display_data",
          "data": {
            "text/plain": [
              "<IPython.core.display.Javascript object>"
            ],
            "application/javascript": [
              "\n",
              "    async function download(id, filename, size) {\n",
              "      if (!google.colab.kernel.accessAllowed) {\n",
              "        return;\n",
              "      }\n",
              "      const div = document.createElement('div');\n",
              "      const label = document.createElement('label');\n",
              "      label.textContent = `Downloading \"${filename}\": `;\n",
              "      div.appendChild(label);\n",
              "      const progress = document.createElement('progress');\n",
              "      progress.max = size;\n",
              "      div.appendChild(progress);\n",
              "      document.body.appendChild(div);\n",
              "\n",
              "      const buffers = [];\n",
              "      let downloaded = 0;\n",
              "\n",
              "      const channel = await google.colab.kernel.comms.open(id);\n",
              "      // Send a message to notify the kernel that we're ready.\n",
              "      channel.send({})\n",
              "\n",
              "      for await (const message of channel.messages) {\n",
              "        // Send a message to notify the kernel that we're ready.\n",
              "        channel.send({})\n",
              "        if (message.buffers) {\n",
              "          for (const buffer of message.buffers) {\n",
              "            buffers.push(buffer);\n",
              "            downloaded += buffer.byteLength;\n",
              "            progress.value = downloaded;\n",
              "          }\n",
              "        }\n",
              "      }\n",
              "      const blob = new Blob(buffers, {type: 'application/binary'});\n",
              "      const a = document.createElement('a');\n",
              "      a.href = window.URL.createObjectURL(blob);\n",
              "      a.download = filename;\n",
              "      div.appendChild(a);\n",
              "      a.click();\n",
              "      div.remove();\n",
              "    }\n",
              "  "
            ]
          },
          "metadata": {}
        },
        {
          "output_type": "display_data",
          "data": {
            "text/plain": [
              "<IPython.core.display.Javascript object>"
            ],
            "application/javascript": [
              "download(\"download_505b0579-27c9-44ec-ab6c-9ce13f189b20\", \"lbp_puncture_microct.csv\", 53278)"
            ]
          },
          "metadata": {}
        }
      ]
    },
    {
      "cell_type": "markdown",
      "metadata": {
        "id": "09OFwDdM2K5h"
      },
      "source": [
        "OBS: If you get an error running the previous line, you can download the file manually by clicking in the left pane icon (below the `+ Code` button), then click in files, expand the `sort-google-scholar` folder, right click and download in the csv file:\n",
        "\n",
        "![](https://i.stack.imgur.com/KKJXFm.png)"
      ]
    },
    {
      "cell_type": "code",
      "metadata": {
        "id": "pM_Bb4MH14eI",
        "outputId": "bf18d677-62e8-4709-c4e3-69090ade4809",
        "colab": {
          "base_uri": "https://localhost:8080/",
          "height": 728
        }
      },
      "source": [
        "df"
      ],
      "execution_count": 16,
      "outputs": [
        {
          "output_type": "execute_result",
          "data": {
            "text/plain": [
              "     Rank                                             Author  \\\n",
              "0      86                A Vergroesen, I Kingma, KS Emanuel…   \n",
              "1     144         Tang, JP Choi, JJ Kotzin, Y Yang, CC Hong…   \n",
              "2     108           Novais, VA Tran, SN Johnston, KR Darris…   \n",
              "3     198                                     Nguyen, JY Lai   \n",
              "4     197                                             Oxland   \n",
              "..    ...                                                ...   \n",
              "195    66                                     Dodge, PDS Sen   \n",
              "196    67                               Gruber, EN Hanley Jr   \n",
              "197    68  Guo, H Yan, Y Xie, W Zhai, S Yang, M Ni, Y Zhang…   \n",
              "198    71                             Li, E Tihelka, ZH Liu…   \n",
              "199   200                                           Iatridis   \n",
              "\n",
              "                                                 Title  Citations  Year  \\\n",
              "0    Mechanics and biology in intervertebral disc d...        666  2015   \n",
              "1    Endothelial TLR4 and the microbiome drive cere...        249  2017   \n",
              "2    Long-term treatment with senolytic drugs Dasat...         90  2021   \n",
              "3    Synthesis, bioactive properties, and biomedica...         44  2022   \n",
              "4    Fundamental biomechanics of the spine—what we ...        157  2016   \n",
              "..                                                 ...        ...   ...   \n",
              "195  Intervertebral Disc Restoration Following Redu...          0     0   \n",
              "196  The Sand Rat (Psammomys obesus obesus) Model o...          0  2013   \n",
              "197  A lumbar disc degeneration model established t...          0  2023   \n",
              "198  New mid-Cretaceous cryptic slime mold beetles ...          3     0   \n",
              "199                             Presentation Abstracts          0  2016   \n",
              "\n",
              "                  Publisher                                         Venue  \\\n",
              "0                  Elsevier                          Osteoarthritis and …   \n",
              "1                nature.com                                        Nature   \n",
              "2                nature.com                                      Nature …   \n",
              "3                  Elsevier                  Chemical Engineering Journal   \n",
              "4                  Elsevier                       Journal of biomechanics   \n",
              "..                      ...                                           ...   \n",
              "195                upoj.org                                      GR Dodge   \n",
              "196        books.google.com   … Molecular and Structural Studies of the …   \n",
              "197                cell.com                                       Heliyon   \n",
              "198  systematics.arphahub …                                           NaN   \n",
              "199         gsia.tums.ac.ir                                           NaN   \n",
              "\n",
              "                                                Source  cit/year  \n",
              "0    https://www.sciencedirect.com/science/article/...        74  \n",
              "1          https://www.nature.com/articles/nature22075        36  \n",
              "2    https://www.nature.com/articles/s41467-021-254...        30  \n",
              "3    https://www.sciencedirect.com/science/article/...        22  \n",
              "4    https://www.sciencedirect.com/science/article/...        20  \n",
              "..                                                 ...       ...  \n",
              "195  https://www.upoj.org/wp-content/uploads/v20/v2...         0  \n",
              "196  https://books.google.com/books?hl=en&lr=&id=ix...         0  \n",
              "197  https://www.cell.com/heliyon/pdf/S2405-8440(23...         0  \n",
              "198  https://arthropod-systematics.arphahub.com/art...         0  \n",
              "199  http://gsia.tums.ac.ir/images/UserFiles/23848/...         0  \n",
              "\n",
              "[200 rows x 9 columns]"
            ],
            "text/html": [
              "\n",
              "  <div id=\"df-d6561bdd-1654-4dc0-a3cf-8aad5359acd7\">\n",
              "    <div class=\"colab-df-container\">\n",
              "      <div>\n",
              "<style scoped>\n",
              "    .dataframe tbody tr th:only-of-type {\n",
              "        vertical-align: middle;\n",
              "    }\n",
              "\n",
              "    .dataframe tbody tr th {\n",
              "        vertical-align: top;\n",
              "    }\n",
              "\n",
              "    .dataframe thead th {\n",
              "        text-align: right;\n",
              "    }\n",
              "</style>\n",
              "<table border=\"1\" class=\"dataframe\">\n",
              "  <thead>\n",
              "    <tr style=\"text-align: right;\">\n",
              "      <th></th>\n",
              "      <th>Rank</th>\n",
              "      <th>Author</th>\n",
              "      <th>Title</th>\n",
              "      <th>Citations</th>\n",
              "      <th>Year</th>\n",
              "      <th>Publisher</th>\n",
              "      <th>Venue</th>\n",
              "      <th>Source</th>\n",
              "      <th>cit/year</th>\n",
              "    </tr>\n",
              "  </thead>\n",
              "  <tbody>\n",
              "    <tr>\n",
              "      <th>0</th>\n",
              "      <td>86</td>\n",
              "      <td>A Vergroesen, I Kingma, KS Emanuel…</td>\n",
              "      <td>Mechanics and biology in intervertebral disc d...</td>\n",
              "      <td>666</td>\n",
              "      <td>2015</td>\n",
              "      <td>Elsevier</td>\n",
              "      <td>Osteoarthritis and …</td>\n",
              "      <td>https://www.sciencedirect.com/science/article/...</td>\n",
              "      <td>74</td>\n",
              "    </tr>\n",
              "    <tr>\n",
              "      <th>1</th>\n",
              "      <td>144</td>\n",
              "      <td>Tang, JP Choi, JJ Kotzin, Y Yang, CC Hong…</td>\n",
              "      <td>Endothelial TLR4 and the microbiome drive cere...</td>\n",
              "      <td>249</td>\n",
              "      <td>2017</td>\n",
              "      <td>nature.com</td>\n",
              "      <td>Nature</td>\n",
              "      <td>https://www.nature.com/articles/nature22075</td>\n",
              "      <td>36</td>\n",
              "    </tr>\n",
              "    <tr>\n",
              "      <th>2</th>\n",
              "      <td>108</td>\n",
              "      <td>Novais, VA Tran, SN Johnston, KR Darris…</td>\n",
              "      <td>Long-term treatment with senolytic drugs Dasat...</td>\n",
              "      <td>90</td>\n",
              "      <td>2021</td>\n",
              "      <td>nature.com</td>\n",
              "      <td>Nature …</td>\n",
              "      <td>https://www.nature.com/articles/s41467-021-254...</td>\n",
              "      <td>30</td>\n",
              "    </tr>\n",
              "    <tr>\n",
              "      <th>3</th>\n",
              "      <td>198</td>\n",
              "      <td>Nguyen, JY Lai</td>\n",
              "      <td>Synthesis, bioactive properties, and biomedica...</td>\n",
              "      <td>44</td>\n",
              "      <td>2022</td>\n",
              "      <td>Elsevier</td>\n",
              "      <td>Chemical Engineering Journal</td>\n",
              "      <td>https://www.sciencedirect.com/science/article/...</td>\n",
              "      <td>22</td>\n",
              "    </tr>\n",
              "    <tr>\n",
              "      <th>4</th>\n",
              "      <td>197</td>\n",
              "      <td>Oxland</td>\n",
              "      <td>Fundamental biomechanics of the spine—what we ...</td>\n",
              "      <td>157</td>\n",
              "      <td>2016</td>\n",
              "      <td>Elsevier</td>\n",
              "      <td>Journal of biomechanics</td>\n",
              "      <td>https://www.sciencedirect.com/science/article/...</td>\n",
              "      <td>20</td>\n",
              "    </tr>\n",
              "    <tr>\n",
              "      <th>...</th>\n",
              "      <td>...</td>\n",
              "      <td>...</td>\n",
              "      <td>...</td>\n",
              "      <td>...</td>\n",
              "      <td>...</td>\n",
              "      <td>...</td>\n",
              "      <td>...</td>\n",
              "      <td>...</td>\n",
              "      <td>...</td>\n",
              "    </tr>\n",
              "    <tr>\n",
              "      <th>195</th>\n",
              "      <td>66</td>\n",
              "      <td>Dodge, PDS Sen</td>\n",
              "      <td>Intervertebral Disc Restoration Following Redu...</td>\n",
              "      <td>0</td>\n",
              "      <td>0</td>\n",
              "      <td>upoj.org</td>\n",
              "      <td>GR Dodge</td>\n",
              "      <td>https://www.upoj.org/wp-content/uploads/v20/v2...</td>\n",
              "      <td>0</td>\n",
              "    </tr>\n",
              "    <tr>\n",
              "      <th>196</th>\n",
              "      <td>67</td>\n",
              "      <td>Gruber, EN Hanley Jr</td>\n",
              "      <td>The Sand Rat (Psammomys obesus obesus) Model o...</td>\n",
              "      <td>0</td>\n",
              "      <td>2013</td>\n",
              "      <td>books.google.com</td>\n",
              "      <td>… Molecular and Structural Studies of the …</td>\n",
              "      <td>https://books.google.com/books?hl=en&amp;lr=&amp;id=ix...</td>\n",
              "      <td>0</td>\n",
              "    </tr>\n",
              "    <tr>\n",
              "      <th>197</th>\n",
              "      <td>68</td>\n",
              "      <td>Guo, H Yan, Y Xie, W Zhai, S Yang, M Ni, Y Zhang…</td>\n",
              "      <td>A lumbar disc degeneration model established t...</td>\n",
              "      <td>0</td>\n",
              "      <td>2023</td>\n",
              "      <td>cell.com</td>\n",
              "      <td>Heliyon</td>\n",
              "      <td>https://www.cell.com/heliyon/pdf/S2405-8440(23...</td>\n",
              "      <td>0</td>\n",
              "    </tr>\n",
              "    <tr>\n",
              "      <th>198</th>\n",
              "      <td>71</td>\n",
              "      <td>Li, E Tihelka, ZH Liu…</td>\n",
              "      <td>New mid-Cretaceous cryptic slime mold beetles ...</td>\n",
              "      <td>3</td>\n",
              "      <td>0</td>\n",
              "      <td>systematics.arphahub …</td>\n",
              "      <td>NaN</td>\n",
              "      <td>https://arthropod-systematics.arphahub.com/art...</td>\n",
              "      <td>0</td>\n",
              "    </tr>\n",
              "    <tr>\n",
              "      <th>199</th>\n",
              "      <td>200</td>\n",
              "      <td>Iatridis</td>\n",
              "      <td>Presentation Abstracts</td>\n",
              "      <td>0</td>\n",
              "      <td>2016</td>\n",
              "      <td>gsia.tums.ac.ir</td>\n",
              "      <td>NaN</td>\n",
              "      <td>http://gsia.tums.ac.ir/images/UserFiles/23848/...</td>\n",
              "      <td>0</td>\n",
              "    </tr>\n",
              "  </tbody>\n",
              "</table>\n",
              "<p>200 rows × 9 columns</p>\n",
              "</div>\n",
              "      <button class=\"colab-df-convert\" onclick=\"convertToInteractive('df-d6561bdd-1654-4dc0-a3cf-8aad5359acd7')\"\n",
              "              title=\"Convert this dataframe to an interactive table.\"\n",
              "              style=\"display:none;\">\n",
              "        \n",
              "  <svg xmlns=\"http://www.w3.org/2000/svg\" height=\"24px\"viewBox=\"0 0 24 24\"\n",
              "       width=\"24px\">\n",
              "    <path d=\"M0 0h24v24H0V0z\" fill=\"none\"/>\n",
              "    <path d=\"M18.56 5.44l.94 2.06.94-2.06 2.06-.94-2.06-.94-.94-2.06-.94 2.06-2.06.94zm-11 1L8.5 8.5l.94-2.06 2.06-.94-2.06-.94L8.5 2.5l-.94 2.06-2.06.94zm10 10l.94 2.06.94-2.06 2.06-.94-2.06-.94-.94-2.06-.94 2.06-2.06.94z\"/><path d=\"M17.41 7.96l-1.37-1.37c-.4-.4-.92-.59-1.43-.59-.52 0-1.04.2-1.43.59L10.3 9.45l-7.72 7.72c-.78.78-.78 2.05 0 2.83L4 21.41c.39.39.9.59 1.41.59.51 0 1.02-.2 1.41-.59l7.78-7.78 2.81-2.81c.8-.78.8-2.07 0-2.86zM5.41 20L4 18.59l7.72-7.72 1.47 1.35L5.41 20z\"/>\n",
              "  </svg>\n",
              "      </button>\n",
              "      \n",
              "  <style>\n",
              "    .colab-df-container {\n",
              "      display:flex;\n",
              "      flex-wrap:wrap;\n",
              "      gap: 12px;\n",
              "    }\n",
              "\n",
              "    .colab-df-convert {\n",
              "      background-color: #E8F0FE;\n",
              "      border: none;\n",
              "      border-radius: 50%;\n",
              "      cursor: pointer;\n",
              "      display: none;\n",
              "      fill: #1967D2;\n",
              "      height: 32px;\n",
              "      padding: 0 0 0 0;\n",
              "      width: 32px;\n",
              "    }\n",
              "\n",
              "    .colab-df-convert:hover {\n",
              "      background-color: #E2EBFA;\n",
              "      box-shadow: 0px 1px 2px rgba(60, 64, 67, 0.3), 0px 1px 3px 1px rgba(60, 64, 67, 0.15);\n",
              "      fill: #174EA6;\n",
              "    }\n",
              "\n",
              "    [theme=dark] .colab-df-convert {\n",
              "      background-color: #3B4455;\n",
              "      fill: #D2E3FC;\n",
              "    }\n",
              "\n",
              "    [theme=dark] .colab-df-convert:hover {\n",
              "      background-color: #434B5C;\n",
              "      box-shadow: 0px 1px 3px 1px rgba(0, 0, 0, 0.15);\n",
              "      filter: drop-shadow(0px 1px 2px rgba(0, 0, 0, 0.3));\n",
              "      fill: #FFFFFF;\n",
              "    }\n",
              "  </style>\n",
              "\n",
              "      <script>\n",
              "        const buttonEl =\n",
              "          document.querySelector('#df-d6561bdd-1654-4dc0-a3cf-8aad5359acd7 button.colab-df-convert');\n",
              "        buttonEl.style.display =\n",
              "          google.colab.kernel.accessAllowed ? 'block' : 'none';\n",
              "\n",
              "        async function convertToInteractive(key) {\n",
              "          const element = document.querySelector('#df-d6561bdd-1654-4dc0-a3cf-8aad5359acd7');\n",
              "          const dataTable =\n",
              "            await google.colab.kernel.invokeFunction('convertToInteractive',\n",
              "                                                     [key], {});\n",
              "          if (!dataTable) return;\n",
              "\n",
              "          const docLinkHtml = 'Like what you see? Visit the ' +\n",
              "            '<a target=\"_blank\" href=https://colab.research.google.com/notebooks/data_table.ipynb>data table notebook</a>'\n",
              "            + ' to learn more about interactive tables.';\n",
              "          element.innerHTML = '';\n",
              "          dataTable['output_type'] = 'display_data';\n",
              "          await google.colab.output.renderOutput(dataTable, element);\n",
              "          const docLink = document.createElement('div');\n",
              "          docLink.innerHTML = docLinkHtml;\n",
              "          element.appendChild(docLink);\n",
              "        }\n",
              "      </script>\n",
              "    </div>\n",
              "  </div>\n",
              "  "
            ]
          },
          "metadata": {},
          "execution_count": 16
        }
      ]
    },
    {
      "cell_type": "code",
      "source": [
        "df.to_csv('my_dataframe.csv', index=False)\n",
        "files.download('my_dataframe.csv')"
      ],
      "metadata": {
        "id": "uPdoqh4_47Lz",
        "outputId": "6f67d6f9-707e-4f1a-9b7d-aed1019183e8",
        "colab": {
          "base_uri": "https://localhost:8080/",
          "height": 17
        }
      },
      "execution_count": 17,
      "outputs": [
        {
          "output_type": "display_data",
          "data": {
            "text/plain": [
              "<IPython.core.display.Javascript object>"
            ],
            "application/javascript": [
              "\n",
              "    async function download(id, filename, size) {\n",
              "      if (!google.colab.kernel.accessAllowed) {\n",
              "        return;\n",
              "      }\n",
              "      const div = document.createElement('div');\n",
              "      const label = document.createElement('label');\n",
              "      label.textContent = `Downloading \"${filename}\": `;\n",
              "      div.appendChild(label);\n",
              "      const progress = document.createElement('progress');\n",
              "      progress.max = size;\n",
              "      div.appendChild(progress);\n",
              "      document.body.appendChild(div);\n",
              "\n",
              "      const buffers = [];\n",
              "      let downloaded = 0;\n",
              "\n",
              "      const channel = await google.colab.kernel.comms.open(id);\n",
              "      // Send a message to notify the kernel that we're ready.\n",
              "      channel.send({})\n",
              "\n",
              "      for await (const message of channel.messages) {\n",
              "        // Send a message to notify the kernel that we're ready.\n",
              "        channel.send({})\n",
              "        if (message.buffers) {\n",
              "          for (const buffer of message.buffers) {\n",
              "            buffers.push(buffer);\n",
              "            downloaded += buffer.byteLength;\n",
              "            progress.value = downloaded;\n",
              "          }\n",
              "        }\n",
              "      }\n",
              "      const blob = new Blob(buffers, {type: 'application/binary'});\n",
              "      const a = document.createElement('a');\n",
              "      a.href = window.URL.createObjectURL(blob);\n",
              "      a.download = filename;\n",
              "      div.appendChild(a);\n",
              "      a.click();\n",
              "      div.remove();\n",
              "    }\n",
              "  "
            ]
          },
          "metadata": {}
        },
        {
          "output_type": "display_data",
          "data": {
            "text/plain": [
              "<IPython.core.display.Javascript object>"
            ],
            "application/javascript": [
              "download(\"download_d2e827bb-a698-45da-a7c9-4737b293e687\", \"my_dataframe.csv\", 53278)"
            ]
          },
          "metadata": {}
        }
      ]
    },
    {
      "cell_type": "code",
      "source": [],
      "metadata": {
        "id": "rzvNgORk5O8F"
      },
      "execution_count": null,
      "outputs": []
    }
  ]
}